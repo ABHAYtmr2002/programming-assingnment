{
 "cells": [
  {
   "cell_type": "markdown",
   "id": "939b88f0-a866-4992-af77-6132502afe8d",
   "metadata": {},
   "source": [
    "question 1 answer :"
   ]
  },
  {
   "cell_type": "code",
   "execution_count": 8,
   "id": "a5833b4d-9b2e-4b3d-b6d1-8d057642e4bd",
   "metadata": {},
   "outputs": [
    {
     "name": "stdout",
     "output_type": "stream",
     "text": [
      "hello python\n"
     ]
    }
   ],
   "source": [
    "print(\"hello python\")"
   ]
  },
  {
   "cell_type": "markdown",
   "id": "e8ffa949-bfa0-4aa5-85ce-cbc439f78326",
   "metadata": {},
   "source": [
    "question 2 answer :"
   ]
  },
  {
   "cell_type": "code",
   "execution_count": 1,
   "id": "55341177-e16c-495f-87dc-9961f372f19e",
   "metadata": {},
   "outputs": [
    {
     "name": "stdout",
     "output_type": "stream",
     "text": [
      "addition: 5\n"
     ]
    }
   ],
   "source": [
    "#addition or division\n",
    "print(\"addition:\",3+2)"
   ]
  },
  {
   "cell_type": "code",
   "execution_count": 3,
   "id": "ff6a6628-adb6-4474-8298-d83395b99c8a",
   "metadata": {},
   "outputs": [
    {
     "name": "stdout",
     "output_type": "stream",
     "text": [
      "division: 5.0\n"
     ]
    }
   ],
   "source": [
    "print(\"division:\",10/2)"
   ]
  },
  {
   "cell_type": "markdown",
   "id": "ff06a9c2-80d9-475c-98b1-958e5e82b0d4",
   "metadata": {},
   "source": [
    "question 3 answer:"
   ]
  },
  {
   "cell_type": "code",
   "execution_count": 6,
   "id": "277d2547-cf44-4f5f-adce-f94f1a106ec2",
   "metadata": {},
   "outputs": [
    {
     "name": "stdout",
     "output_type": "stream",
     "text": [
      "area of triangle: 25.0\n"
     ]
    }
   ],
   "source": [
    "print(\"area of triangle:\",(10*5) / 2)"
   ]
  },
  {
   "cell_type": "markdown",
   "id": "f6a8160a-d26f-4b3d-acc2-e5cbd35a06b7",
   "metadata": {},
   "source": [
    "question 4 answer:"
   ]
  },
  {
   "cell_type": "code",
   "execution_count": 9,
   "id": "97a96a9f-ca15-4f36-a3eb-35680f7dd2af",
   "metadata": {},
   "outputs": [
    {
     "name": "stdout",
     "output_type": "stream",
     "text": [
      "swapped values: apple banana\n"
     ]
    }
   ],
   "source": [
    "first_fruit = \"banana\"\n",
    "second_fruit = \"apple\"\n",
    "first_fruit , second_fruit = second_fruit , first_fruit\n",
    "print(\"swapped values:\", first_fruit,second_fruit)"
   ]
  },
  {
   "cell_type": "code",
   "execution_count": 11,
   "id": "68028058-1117-467f-a455-7dc47b3c1990",
   "metadata": {},
   "outputs": [
    {
     "name": "stdout",
     "output_type": "stream",
     "text": [
      "swapped values: banana apple\n"
     ]
    }
   ],
   "source": [
    "print(\"swapped values:\",second_fruit,first_fruit)"
   ]
  },
  {
   "cell_type": "markdown",
   "id": "46691f83-daac-4b94-8b95-690820e190a1",
   "metadata": {},
   "source": [
    "question 5 answer:"
   ]
  },
  {
   "cell_type": "code",
   "execution_count": 18,
   "id": "bea34514-cc1e-43ef-8e37-0db5865b3f60",
   "metadata": {},
   "outputs": [
    {
     "name": "stdout",
     "output_type": "stream",
     "text": [
      "random number: 140\n"
     ]
    }
   ],
   "source": [
    "import random\n",
    "print(\"random number:\",random.randint(1,199))"
   ]
  },
  {
   "cell_type": "code",
   "execution_count": null,
   "id": "de8ef652-d6ca-42de-8c4a-f52ae727d265",
   "metadata": {},
   "outputs": [],
   "source": []
  }
 ],
 "metadata": {
  "kernelspec": {
   "display_name": "Python [conda env:base] *",
   "language": "python",
   "name": "conda-base-py"
  },
  "language_info": {
   "codemirror_mode": {
    "name": "ipython",
    "version": 3
   },
   "file_extension": ".py",
   "mimetype": "text/x-python",
   "name": "python",
   "nbconvert_exporter": "python",
   "pygments_lexer": "ipython3",
   "version": "3.12.7"
  }
 },
 "nbformat": 4,
 "nbformat_minor": 5
}
