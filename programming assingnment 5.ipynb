{
 "cells": [
  {
   "cell_type": "markdown",
   "id": "1b8253c9-6074-48b5-8be3-d8b5195e5669",
   "metadata": {},
   "source": [
    "question 1 answer:"
   ]
  },
  {
   "cell_type": "code",
   "execution_count": 2,
   "id": "e5a98531-0b69-4cca-9a5b-3a8e0933d545",
   "metadata": {},
   "outputs": [
    {
     "name": "stdin",
     "output_type": "stream",
     "text": [
      "Enter first number:  30\n",
      "Enter second number:  60\n"
     ]
    },
    {
     "name": "stdout",
     "output_type": "stream",
     "text": [
      "The LCM of 30 and 60 is 60\n"
     ]
    }
   ],
   "source": [
    "num1 = int(input(\"Enter first number: \"))\n",
    "num2 = int(input(\"Enter second number: \"))\n",
    "\n",
    "if num1 > num2:\n",
    "    greater = num1\n",
    "else:\n",
    "    greater = num2\n",
    "\n",
    "while True:\n",
    "    if (greater % num1 == 0) and (greater % num2 == 0):\n",
    "        lcm = greater\n",
    "        break\n",
    "    greater += 1\n",
    "\n",
    "print(f\"The LCM of {num1} and {num2} is {lcm}\")\n"
   ]
  },
  {
   "cell_type": "markdown",
   "id": "63229daa-a125-4064-aac9-aef7f8394ee7",
   "metadata": {},
   "source": [
    "question 2 answer:"
   ]
  },
  {
   "cell_type": "code",
   "execution_count": 7,
   "id": "fbbe6389-a03f-4efa-9475-cfcd8123256f",
   "metadata": {},
   "outputs": [
    {
     "name": "stdin",
     "output_type": "stream",
     "text": [
      "Enter first number:  30\n",
      "Enter second number:  40\n"
     ]
    },
    {
     "name": "stdout",
     "output_type": "stream",
     "text": [
      "The HCF of 30 and 40 is 10\n"
     ]
    }
   ],
   "source": [
    "num1 = int(input(\"Enter first number: \"))\n",
    "num2 = int(input(\"Enter second number: \"))\n",
    "\n",
    "if num1 < num2:\n",
    "    smaller = num1\n",
    "else:\n",
    "    smaller = num2\n",
    "\n",
    "for i in range(1, smaller + 1):\n",
    "    if (num1 % i == 0) and (num2 % i == 0):\n",
    "        hcf = i \n",
    "\n",
    "print(f\"The HCF of {num1} and {num2} is {hcf}\")\n"
   ]
  },
  {
   "cell_type": "markdown",
   "id": "7389668f-6c98-4fe8-ba6d-5cf40172ece4",
   "metadata": {},
   "source": [
    "question 3 answer:"
   ]
  },
  {
   "cell_type": "code",
   "execution_count": 12,
   "id": "7522f169-1cd2-4617-9c17-4049a106fd72",
   "metadata": {},
   "outputs": [
    {
     "name": "stdin",
     "output_type": "stream",
     "text": [
      "Enter a decimal number:  3\n"
     ]
    },
    {
     "name": "stdout",
     "output_type": "stream",
     "text": [
      "Binary of 3 is 0b11\n",
      "Octal of 3 is 0o3\n",
      "Hexadecimal of 3 is 0x3\n"
     ]
    }
   ],
   "source": [
    "decimal = int(input(\"Enter a decimal number: \"))\n",
    "\n",
    "print(f\"Binary of {decimal} is {bin(decimal)}\")\n",
    "print(f\"Octal of {decimal} is {oct(decimal)}\")\n",
    "print(f\"Hexadecimal of {decimal} is {hex(decimal)}\")\n"
   ]
  },
  {
   "cell_type": "markdown",
   "id": "33ba6d64-69c1-4a42-a05e-8b64c3d93653",
   "metadata": {},
   "source": [
    "question 4 answer:"
   ]
  },
  {
   "cell_type": "code",
   "execution_count": 15,
   "id": "aa253d35-2a0f-4348-a733-c7bd6a6e38d4",
   "metadata": {},
   "outputs": [
    {
     "name": "stdin",
     "output_type": "stream",
     "text": [
      "Enter a character:  a\n"
     ]
    },
    {
     "name": "stdout",
     "output_type": "stream",
     "text": [
      "The ASCII value of a is 97\n"
     ]
    }
   ],
   "source": [
    "ch = input(\"Enter a character: \")\n",
    "print(\"The ASCII value of\", ch, \"is\", ord(ch))\n"
   ]
  },
  {
   "cell_type": "markdown",
   "id": "68f20d14-5ca8-4341-8733-9a4c7f9cc013",
   "metadata": {},
   "source": [
    "question 5 answer :"
   ]
  },
  {
   "cell_type": "code",
   "execution_count": null,
   "id": "82b4ec1f-186c-4a37-ae8f-2fa20026a34a",
   "metadata": {},
   "outputs": [
    {
     "name": "stdin",
     "output_type": "stream",
     "text": [
      "Enter first number:  30\n",
      "Enter operator (+, -, *, /):  +\n"
     ]
    }
   ],
   "source": [
    "num1 = float(input(\"Enter first number: \"))\n",
    "op = input(\"Enter operator (+, -, *, /): \")\n",
    "num2 = float(input(\"Enter second number: \"))\n",
    "\n",
    "if op == '+':\n",
    "    print(\"Result =\", num1 + num2)\n",
    "elif op == '-':\n",
    "    print(\"Result =\", num1 - num2)\n",
    "elif op == '*':\n",
    "    print(\"Result =\", num1 * num2)\n",
    "elif op == '/':\n",
    "    if num2 != 0:\n",
    "        print(\"Result =\", num1 / num2)\n",
    "    else:\n",
    "        print(\"Cannot divide by zero!\")\n",
    "else:\n",
    "    print(\"Invalid operator\")\n"
   ]
  },
  {
   "cell_type": "code",
   "execution_count": null,
   "id": "32a2f6ae-0552-4ee9-86ed-f328ffa42fde",
   "metadata": {},
   "outputs": [],
   "source": []
  }
 ],
 "metadata": {
  "kernelspec": {
   "display_name": "Python [conda env:base] *",
   "language": "python",
   "name": "conda-base-py"
  },
  "language_info": {
   "codemirror_mode": {
    "name": "ipython",
    "version": 3
   },
   "file_extension": ".py",
   "mimetype": "text/x-python",
   "name": "python",
   "nbconvert_exporter": "python",
   "pygments_lexer": "ipython3",
   "version": "3.12.7"
  }
 },
 "nbformat": 4,
 "nbformat_minor": 5
}
