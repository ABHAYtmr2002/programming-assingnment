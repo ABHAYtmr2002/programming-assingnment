{
 "cells": [
  {
   "cell_type": "markdown",
   "id": "8ee0ee92-103d-4b04-bdd4-02fbaf18f6df",
   "metadata": {},
   "source": [
    "question 1 answer:"
   ]
  },
  {
   "cell_type": "code",
   "execution_count": 3,
   "id": "6786e561-19e2-4f9b-bfb5-1bcaa45230e4",
   "metadata": {},
   "outputs": [
    {
     "name": "stdout",
     "output_type": "stream",
     "text": [
      "49.70968\n"
     ]
    }
   ],
   "source": [
    "kilometers = 80\n",
    "miles = kilometers * 0.621371\n",
    "print(miles)\n"
   ]
  },
  {
   "cell_type": "markdown",
   "id": "1556a3cf-0676-45c0-a8d1-7812bde26466",
   "metadata": {},
   "source": [
    "question 2 answer:"
   ]
  },
  {
   "cell_type": "code",
   "execution_count": 8,
   "id": "bf131854-4f06-4ee1-9ff5-40567af9f749",
   "metadata": {},
   "outputs": [
    {
     "name": "stdout",
     "output_type": "stream",
     "text": [
      "116.6\n"
     ]
    }
   ],
   "source": [
    "celsius = 47\n",
    "Fahrenheit = (celsius*9/5) +32\n",
    "print(Fahrenheit)"
   ]
  },
  {
   "cell_type": "markdown",
   "id": "8c5a8f91-f8d7-4526-a238-3d996f2aceef",
   "metadata": {},
   "source": [
    "question 3 answer:"
   ]
  },
  {
   "cell_type": "code",
   "execution_count": 5,
   "id": "58a0b89e-4947-4405-807c-a45f7d69c626",
   "metadata": {},
   "outputs": [
    {
     "name": "stdin",
     "output_type": "stream",
     "text": [
      "enter year: 2025\n",
      "enter month(1-12): 7\n"
     ]
    },
    {
     "name": "stdout",
     "output_type": "stream",
     "text": [
      "     July 2025\n",
      "Mo Tu We Th Fr Sa Su\n",
      "    1  2  3  4  5  6\n",
      " 7  8  9 10 11 12 13\n",
      "14 15 16 17 18 19 20\n",
      "21 22 23 24 25 26 27\n",
      "28 29 30 31\n",
      "\n"
     ]
    }
   ],
   "source": [
    "import calendar\n",
    "year = int(input(\"enter year:\"))\n",
    "month = int(input(\"enter month(1-12):\"))\n",
    "print(calendar.month(year,month))"
   ]
  },
  {
   "cell_type": "markdown",
   "id": "8120cd7b-8a13-4ed8-9f94-3565bedbd007",
   "metadata": {},
   "source": [
    "question 4 answer:"
   ]
  },
  {
   "cell_type": "code",
   "execution_count": 10,
   "id": "8979eb8a-84ba-46bc-899d-88f3fbf42e1c",
   "metadata": {},
   "outputs": [
    {
     "name": "stdout",
     "output_type": "stream",
     "text": [
      "3.0 2.0\n"
     ]
    }
   ],
   "source": [
    "import math\n",
    "\n",
    "a, b, c = 1, -5, 6 \n",
    "\n",
    "d = b**2 - 4*a*c\n",
    "\n",
    "root1 = (-b + math.sqrt(d)) / (2*a)\n",
    "root2 = (-b - math.sqrt(d)) / (2*a)\n",
    "\n",
    "print(root1, root2)\n"
   ]
  },
  {
   "cell_type": "markdown",
   "id": "2b7425bc-0913-44c8-bb73-ca7a626bc7f4",
   "metadata": {},
   "source": [
    "question 5 answer:"
   ]
  },
  {
   "cell_type": "code",
   "execution_count": 13,
   "id": "033614d5-c05a-46df-8ce5-b04af07b6778",
   "metadata": {},
   "outputs": [
    {
     "name": "stdout",
     "output_type": "stream",
     "text": [
      "10 5\n"
     ]
    }
   ],
   "source": [
    "a, b = 5, 10 \n",
    "\n",
    "a, b = b, a\n",
    "\n",
    "print(a, b)\n"
   ]
  },
  {
   "cell_type": "code",
   "execution_count": null,
   "id": "c2b41ccf-2e70-4c0a-bbfd-06a11bbc0e27",
   "metadata": {},
   "outputs": [],
   "source": []
  }
 ],
 "metadata": {
  "kernelspec": {
   "display_name": "Python [conda env:base] *",
   "language": "python",
   "name": "conda-base-py"
  },
  "language_info": {
   "codemirror_mode": {
    "name": "ipython",
    "version": 3
   },
   "file_extension": ".py",
   "mimetype": "text/x-python",
   "name": "python",
   "nbconvert_exporter": "python",
   "pygments_lexer": "ipython3",
   "version": "3.12.7"
  }
 },
 "nbformat": 4,
 "nbformat_minor": 5
}
