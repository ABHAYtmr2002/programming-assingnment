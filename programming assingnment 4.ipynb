{
 "cells": [
  {
   "cell_type": "markdown",
   "id": "284b642a-8fb8-4505-bc99-dfa29406ae44",
   "metadata": {},
   "source": [
    "question 1 answer:"
   ]
  },
  {
   "cell_type": "code",
   "execution_count": 7,
   "id": "e5654420-c13d-4206-b813-52d2399198d1",
   "metadata": {},
   "outputs": [
    {
     "name": "stdin",
     "output_type": "stream",
     "text": [
      "enter the number 9\n"
     ]
    },
    {
     "name": "stdout",
     "output_type": "stream",
     "text": [
      "the factorial of 9 is 362880\n"
     ]
    }
   ],
   "source": [
    "num = int(input(\"enter the number\"))\n",
    "if num < 0:\n",
    "    print(\"negative don't have factorial\")\n",
    "elif num == 0:\n",
    "    print(\"factorial of 0 is 1\")\n",
    "else:\n",
    "    fact = 1\n",
    "    for i in range(1, num +1):\n",
    "        fact = fact * i \n",
    "    print(f\"the factorial of {num} is {fact}\")\n",
    "    "
   ]
  },
  {
   "cell_type": "markdown",
   "id": "97d1bfe9-84de-4f34-a6d2-2cf6ad5aed95",
   "metadata": {},
   "source": [
    "question 2 answer:"
   ]
  },
  {
   "cell_type": "code",
   "execution_count": 12,
   "id": "baa08fef-1f6b-4367-976a-c5781081a6af",
   "metadata": {},
   "outputs": [
    {
     "name": "stdin",
     "output_type": "stream",
     "text": [
      "enter a number: 8\n"
     ]
    },
    {
     "name": "stdout",
     "output_type": "stream",
     "text": [
      "multiplication table for 8:\n",
      "8 * 1 = 8\n",
      "8 * 2 = 16\n",
      "8 * 3 = 24\n",
      "8 * 4 = 32\n",
      "8 * 5 = 40\n",
      "8 * 6 = 48\n",
      "8 * 7 = 56\n",
      "8 * 8 = 64\n",
      "8 * 9 = 72\n",
      "8 * 10 = 80\n"
     ]
    }
   ],
   "source": [
    "num = int(input(\"enter a number:\"))\n",
    "print(f\"multiplication table for {num}:\")\n",
    "for i in range(1,11):\n",
    "    print(f\"{num} * {i} = {num * i}\")"
   ]
  },
  {
   "cell_type": "markdown",
   "id": "114c0065-409f-42d2-bf09-c9ce59706af2",
   "metadata": {},
   "source": [
    "question 3 answer:"
   ]
  },
  {
   "cell_type": "code",
   "execution_count": 15,
   "id": "ac5c702b-1aac-42d8-a9d7-e6ef87757684",
   "metadata": {},
   "outputs": [
    {
     "name": "stdout",
     "output_type": "stream",
     "text": [
      "0\n",
      "1\n",
      "1\n",
      "2\n",
      "3\n",
      "5\n",
      "8\n",
      "13\n",
      "21\n",
      "34\n"
     ]
    }
   ],
   "source": [
    "a = 0\n",
    "b = 1\n",
    "\n",
    "print(a)\n",
    "print(b)\n",
    "\n",
    "for i in range(8): \n",
    "    c = a + b\n",
    "    print(c)\n",
    "    a = b\n",
    "    b = c\n"
   ]
  },
  {
   "cell_type": "markdown",
   "id": "90e1be40-11dc-431d-8631-9291e537f8f8",
   "metadata": {},
   "source": [
    "question 4 answer:"
   ]
  },
  {
   "cell_type": "code",
   "execution_count": 21,
   "id": "95352086-8218-4c63-bf8e-d9b736b1eaf4",
   "metadata": {},
   "outputs": [
    {
     "name": "stdin",
     "output_type": "stream",
     "text": [
      "enter a number: 7\n"
     ]
    },
    {
     "name": "stdout",
     "output_type": "stream",
     "text": [
      "not armstrong number.\n"
     ]
    }
   ],
   "source": [
    "num = int(input(\"enter a number:\"))\n",
    "sum = 0 \n",
    "temp = num\n",
    "\n",
    "while temp > 0:\n",
    "    digit = temp % 10\n",
    "    sum = sum + (digit ** 3)\n",
    "    temp = temp // 10 \n",
    "\n",
    "if sum == num:\n",
    "    print(\"armstrong number !\")\n",
    "else:\n",
    "    print(\"not armstrong number.\")\n",
    "    \n"
   ]
  },
  {
   "cell_type": "markdown",
   "id": "35f8c9d2-8676-4e02-bc42-eaf4953c9690",
   "metadata": {},
   "source": [
    "question 5 answer:"
   ]
  },
  {
   "cell_type": "code",
   "execution_count": 2,
   "id": "380387a3-b282-4577-a115-7e2630d02cd2",
   "metadata": {},
   "outputs": [
    {
     "name": "stdin",
     "output_type": "stream",
     "text": [
      "Enter the lower range:  4\n",
      "Enter the upper range:  8\n"
     ]
    },
    {
     "name": "stdout",
     "output_type": "stream",
     "text": [
      "Armstrong numbers between 4 and 8 are:\n",
      "4\n",
      "5\n",
      "6\n",
      "7\n",
      "8\n"
     ]
    }
   ],
   "source": [
    "lower = int(input(\"Enter the lower range: \"))\n",
    "upper = int(input(\"Enter the upper range: \"))\n",
    "\n",
    "print(f\"Armstrong numbers between {lower} and {upper} are:\")\n",
    "\n",
    "for num in range(lower, upper + 1):\n",
    "\n",
    "    digits = str(num)\n",
    "    power = len(digits)\n",
    "    total = 0\n",
    "    for digit in digits:\n",
    "        total += int(digit) ** power\n",
    "    \n",
    "    \n",
    "    if total == num:\n",
    "        print(num)\n"
   ]
  },
  {
   "cell_type": "code",
   "execution_count": null,
   "id": "dff8e65b-791b-422c-a6b3-9e667c600d8b",
   "metadata": {},
   "outputs": [],
   "source": []
  }
 ],
 "metadata": {
  "kernelspec": {
   "display_name": "Python [conda env:base] *",
   "language": "python",
   "name": "conda-base-py"
  },
  "language_info": {
   "codemirror_mode": {
    "name": "ipython",
    "version": 3
   },
   "file_extension": ".py",
   "mimetype": "text/x-python",
   "name": "python",
   "nbconvert_exporter": "python",
   "pygments_lexer": "ipython3",
   "version": "3.12.7"
  }
 },
 "nbformat": 4,
 "nbformat_minor": 5
}
